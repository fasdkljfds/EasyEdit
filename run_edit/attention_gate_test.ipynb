{
 "cells": [
  {
   "cell_type": "code",
   "id": "initial_id",
   "metadata": {
    "collapsed": true,
    "ExecuteTime": {
     "end_time": "2025-04-03T09:01:04.261229Z",
     "start_time": "2025-04-03T09:01:04.252227Z"
    }
   },
   "source": [
    "import torch.nn as nn\n",
    "import torch\n"
   ],
   "outputs": [],
   "execution_count": 6
  },
  {
   "metadata": {
    "ExecuteTime": {
     "end_time": "2025-04-03T09:01:04.447264Z",
     "start_time": "2025-04-03T09:01:04.383825Z"
    }
   },
   "cell_type": "code",
   "source": [
    "attention = nn.MultiheadAttention(\n",
    "    embed_dim=512,\n",
    "    num_heads=1,\n",
    "    dropout=0.1,\n",
    "    batch_first=True\n",
    ")\n",
    "query = key = value = torch.randn(2, 10, 512)  # [batch, seq_len, dim]\n",
    "output, attn_weights = attention(query, key, value)"
   ],
   "id": "b490d10dc3c0693b",
   "outputs": [],
   "execution_count": 7
  },
  {
   "metadata": {
    "ExecuteTime": {
     "end_time": "2025-04-03T09:01:05.349536Z",
     "start_time": "2025-04-03T09:01:05.336951Z"
    }
   },
   "cell_type": "code",
   "source": "output",
   "id": "e2c4053bf50234ea",
   "outputs": [
    {
     "data": {
      "text/plain": [
       "tensor([[[ 0.1423, -0.1268,  0.0953,  ...,  0.0686, -0.1434,  0.1283],\n",
       "         [ 0.1947, -0.2220,  0.2682,  ...,  0.1376, -0.2666,  0.0925],\n",
       "         [-0.0392, -0.0385,  0.2238,  ..., -0.0473, -0.2043,  0.1645],\n",
       "         ...,\n",
       "         [ 0.1492, -0.2044,  0.2439,  ...,  0.0085, -0.2438,  0.0421],\n",
       "         [ 0.0880, -0.1237,  0.3255,  ..., -0.0456, -0.0912,  0.1053],\n",
       "         [ 0.0184,  0.0255,  0.1404,  ..., -0.0193, -0.3471,  0.1251]],\n",
       "\n",
       "        [[-0.0050, -0.3125, -0.1620,  ...,  0.1303,  0.1643,  0.0872],\n",
       "         [-0.0006, -0.3768,  0.1002,  ...,  0.1254,  0.1149,  0.1344],\n",
       "         [ 0.0902, -0.3179,  0.0264,  ..., -0.0023,  0.1834,  0.1216],\n",
       "         ...,\n",
       "         [-0.0689, -0.3008,  0.0705,  ...,  0.0605,  0.0753,  0.1787],\n",
       "         [-0.0204, -0.4689, -0.0465,  ...,  0.1091, -0.0695,  0.1872],\n",
       "         [-0.0100, -0.3715, -0.1307,  ...,  0.0406,  0.1165,  0.0805]]],\n",
       "       grad_fn=<TransposeBackward0>)"
      ]
     },
     "execution_count": 8,
     "metadata": {},
     "output_type": "execute_result"
    }
   ],
   "execution_count": 8
  },
  {
   "metadata": {},
   "cell_type": "code",
   "outputs": [],
   "execution_count": null,
   "source": "",
   "id": "177fd2b9192945b5"
  }
 ],
 "metadata": {
  "kernelspec": {
   "display_name": "Python 3",
   "language": "python",
   "name": "python3"
  },
  "language_info": {
   "codemirror_mode": {
    "name": "ipython",
    "version": 2
   },
   "file_extension": ".py",
   "mimetype": "text/x-python",
   "name": "python",
   "nbconvert_exporter": "python",
   "pygments_lexer": "ipython2",
   "version": "2.7.6"
  }
 },
 "nbformat": 4,
 "nbformat_minor": 5
}
